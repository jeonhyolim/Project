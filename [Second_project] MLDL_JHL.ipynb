{
  "cells": [
    {
      "cell_type": "markdown",
      "source": [
        "# 1 Problem Definition"
      ],
      "metadata": {
        "id": "_v7rZMEcMzwO"
      }
    },
    {
      "cell_type": "code",
      "execution_count": null,
      "metadata": {
        "colab": {
          "base_uri": "https://localhost:8080/"
        },
        "id": "jjwMt5AuujW3",
        "outputId": "01997f04-699c-4d7b-b62f-5fdc5ae70b40"
      },
      "outputs": [
        {
          "output_type": "stream",
          "name": "stdout",
          "text": [
            "Drive already mounted at /content/drive; to attempt to forcibly remount, call drive.mount(\"/content/drive\", force_remount=True).\n"
          ]
        }
      ],
      "source": [
        "from google.colab import drive\n",
        "drive.mount('/content/drive')"
      ]
    },
    {
      "cell_type": "code",
      "execution_count": null,
      "metadata": {
        "id": "Mr25SjMdu_tW"
      },
      "outputs": [],
      "source": [
        "import os\n",
        "\n",
        "os.chdir('/content/drive/MyDrive/고머딥/기말프로젝트')"
      ]
    },
    {
      "cell_type": "code",
      "execution_count": null,
      "metadata": {
        "id": "Z3X1m5O9xOBL"
      },
      "outputs": [],
      "source": [
        "import numpy as np\n",
        "import pandas as pd\n",
        "import matplotlib.pyplot as plt\n",
        "import os\n",
        "import cv2\n",
        "from PIL import Image\n",
        "from timeit import default_timer as timer"
      ]
    },
    {
      "cell_type": "markdown",
      "source": [
        "# 2 Data"
      ],
      "metadata": {
        "id": "LeUTKeMoM4eJ"
      }
    },
    {
      "cell_type": "code",
      "execution_count": null,
      "metadata": {
        "id": "2dP1dogOyqpC"
      },
      "outputs": [],
      "source": [
        "from PIL import ImageFile\n",
        "ImageFile.LOAD_TRUNCATED_IMAGES = True"
      ]
    },
    {
      "cell_type": "markdown",
      "source": [
        "## 2-1 ) Train Load"
      ],
      "metadata": {
        "id": "zoZlNYH-O_lD"
      }
    },
    {
      "cell_type": "code",
      "execution_count": null,
      "metadata": {
        "id": "AjLgL3oiw--T"
      },
      "outputs": [],
      "source": [
        "from glob import glob\n",
        "\n",
        "label_dict = {\n",
        "    'downdog':0,\n",
        "    'goddess':1,\n",
        "    'mountain':2,\n",
        "    'tree':3,\n",
        "    'warrior1':4,\n",
        "    'warrior2':5\n",
        "}\n",
        "\n",
        "train_label_list = []\n",
        "train_img_list = []\n",
        "for label_path in glob('/content/drive/MyDrive/고머딥/기말프로젝트/for-student/train/*'):\n",
        "    for img_path in glob(label_path + \"/*\"):\n",
        "        image = np.array(Image.open(img_path).convert(\"RGB\").resize((128, 128)))\n",
        "        train_img_list.append(image)\n",
        "        train_label_list.append(label_dict[os.path.basename(label_path)])\n",
        "train_label_list = np.array(train_label_list)\n",
        "train_img_list = np.array(train_img_list)"
      ]
    },
    {
      "cell_type": "code",
      "execution_count": null,
      "metadata": {
        "id": "dOSblqfy9d2r"
      },
      "outputs": [],
      "source": [
        "np.random.seed(42)\n",
        "random_indices =np.random.permutation(len(train_label_list))\n",
        "train_label_list = train_label_list[random_indices]\n",
        "train_img_list = train_img_list[random_indices]"
      ]
    },
    {
      "cell_type": "code",
      "execution_count": null,
      "metadata": {
        "colab": {
          "base_uri": "https://localhost:8080/"
        },
        "id": "ZrVpGyz8yuLr",
        "outputId": "7d3c6e96-ad49-4abd-bc52-820d365465a3"
      },
      "outputs": [
        {
          "output_type": "execute_result",
          "data": {
            "text/plain": [
              "((2484, 128, 128, 3), (2484,))"
            ]
          },
          "metadata": {},
          "execution_count": 8
        }
      ],
      "source": [
        "train_img_list.shape, train_label_list.shape "
      ]
    },
    {
      "cell_type": "code",
      "source": [
        "np.bincount(train_label_list)"
      ],
      "metadata": {
        "id": "P-mhTqP7NcPH"
      },
      "execution_count": null,
      "outputs": []
    },
    {
      "cell_type": "code",
      "execution_count": null,
      "metadata": {
        "id": "x14oD7hNriS-"
      },
      "outputs": [],
      "source": [
        "from sklearn.model_selection import train_test_split\n",
        "X_train, X_val, y_train, y_val = train_test_split(train_img_list, train_label_list, test_size = 0.2,  random_state=1215)"
      ]
    },
    {
      "cell_type": "code",
      "source": [
        "y_train, y_val"
      ],
      "metadata": {
        "id": "1qn3KSo_PWNf"
      },
      "execution_count": null,
      "outputs": []
    },
    {
      "cell_type": "markdown",
      "source": [
        "## 2-2) Test load"
      ],
      "metadata": {
        "id": "-Z-3OyuYPCcz"
      }
    },
    {
      "cell_type": "code",
      "execution_count": null,
      "metadata": {
        "id": "-BG5Eln6OHHu"
      },
      "outputs": [],
      "source": [
        "import natsort\n",
        "test = pd.DataFrame()\n",
        "\n",
        "all_img_list = glob('/content/drive/MyDrive/고머딥/기말프로젝트/for-student/test/*')\n",
        "test['img_path'] = all_img_list\n",
        "test_image_values = natsort.natsorted(test['img_path'].values)\n",
        "\n",
        "test_img_list = []\n",
        "for img_path in test_image_values:\n",
        "  image = np.array(Image.open(img_path).convert(\"RGB\").resize((128, 128)))\n",
        "  test_img_list.append(image)\n",
        "test_img_list = np.array(test_img_list)"
      ]
    },
    {
      "cell_type": "code",
      "execution_count": null,
      "metadata": {
        "colab": {
          "base_uri": "https://localhost:8080/"
        },
        "id": "rFubWGHXOsfx",
        "outputId": "1b1dd89b-df97-4ba8-8a32-2dc6eb01bf6d"
      },
      "outputs": [
        {
          "output_type": "execute_result",
          "data": {
            "text/plain": [
              "389"
            ]
          },
          "metadata": {},
          "execution_count": 11
        }
      ],
      "source": [
        "len(test_img_list)"
      ]
    },
    {
      "cell_type": "markdown",
      "source": [
        "# 3) Analysis"
      ],
      "metadata": {
        "id": "wPEEgsf8PRft"
      }
    },
    {
      "cell_type": "code",
      "source": [
        "import matplotlib.pyplot as plt\n",
        "\n",
        "\n",
        "# Display the first image\n",
        "first_image = test_img_list[0]\n",
        "plt.imshow(first_image)\n",
        "plt.axis('off')  \n",
        "plt.show()"
      ],
      "metadata": {
        "id": "34_YMq40PTwG"
      },
      "execution_count": null,
      "outputs": []
    },
    {
      "cell_type": "markdown",
      "metadata": {
        "id": "AtQ8DMTCJbEd"
      },
      "source": [
        "# 4 model"
      ]
    },
    {
      "cell_type": "markdown",
      "source": [
        "## 4-1) sequential model"
      ],
      "metadata": {
        "id": "fdLEFeJvQcwO"
      }
    },
    {
      "cell_type": "code",
      "source": [
        "import tensorflow as tf\n",
        "from tensorflow.keras import layers\n",
        "\n",
        "model_sequential = tf.keras.Sequential([\n",
        "    layers.Conv2D(32, (3, 3), activation='relu', input_shape=(128, 128, 3)),\n",
        "    layers.MaxPooling2D((2, 2)),\n",
        "    layers.Conv2D(64, (3, 3), activation='relu'),\n",
        "    layers.MaxPooling2D((2, 2)),\n",
        "    layers.Flatten(),\n",
        "    layers.Dense(64, activation='relu'),\n",
        "    layers.Dense(6, activation='softmax')\n",
        "])"
      ],
      "metadata": {
        "id": "vj-QtH4iQesW"
      },
      "execution_count": null,
      "outputs": []
    },
    {
      "cell_type": "code",
      "source": [
        "adam = tf.keras.optimizers.Adam(learning_rate=0.001)\n",
        "\n",
        "# For Integer Vector\n",
        "sce_loss = tf.keras.losses.SparseCategoricalCrossentropy()\n",
        "\n",
        "# For one-hot vector\n",
        "ce_loss = tf.keras.losses.CategoricalCrossentropy()\n",
        "\n",
        "model_sequential.compile(\n",
        "    optimizer = adam,\n",
        "    loss = sce_loss,\n",
        "    metrics=[\"acc\"]\n",
        ")\n",
        "\n",
        "model_sequential.summary()"
      ],
      "metadata": {
        "id": "-tep0KATQjYl"
      },
      "execution_count": null,
      "outputs": []
    },
    {
      "cell_type": "markdown",
      "source": [
        "## 4-2) VGG16"
      ],
      "metadata": {
        "id": "ApBtxnHpQanH"
      }
    },
    {
      "cell_type": "code",
      "execution_count": null,
      "metadata": {
        "colab": {
          "base_uri": "https://localhost:8080/"
        },
        "id": "NmS5wY1zJcSB",
        "outputId": "8fa59b13-9dc8-4c84-e4ed-3999b679bd94"
      },
      "outputs": [
        {
          "output_type": "stream",
          "name": "stdout",
          "text": [
            "Downloading data from https://storage.googleapis.com/tensorflow/keras-applications/vgg16/vgg16_weights_tf_dim_ordering_tf_kernels_notop.h5\n",
            "58889256/58889256 [==============================] - 0s 0us/step\n"
          ]
        }
      ],
      "source": [
        "import numpy as np\n",
        "from keras.applications.vgg16 import VGG16\n",
        "from keras.preprocessing import image\n",
        "from keras.applications.vgg16 import preprocess_input, decode_predictions\n",
        "from keras.models import Model\n",
        "from keras.layers import Dense, GlobalAveragePooling2D\n",
        "\n",
        "num_classes = 6\n",
        "\n",
        "# pre-trained VGG16 model\n",
        "base_model = VGG16(weights='imagenet', include_top=False)\n",
        "\n",
        "# custom layers for classification\n",
        "x = base_model.output\n",
        "x = GlobalAveragePooling2D()(x)\n",
        "x = Dense(1024, activation='relu')(x)\n",
        "x = Dense(512, activation='relu')(x)\n",
        "x = Dense(128, activation='relu')(x)\n",
        "x = Dense(32, activation='relu')(x)\n",
        "predictions = Dense(num_classes, activation='softmax')(x)\n",
        "\n",
        "# final model\n",
        "model = Model(inputs=base_model.input, outputs=predictions)\n",
        "\n",
        "# Freeze the base model layers\n",
        "for layer in base_model.layers:\n",
        "    layer.trainable = False"
      ]
    },
    {
      "cell_type": "code",
      "execution_count": null,
      "metadata": {
        "colab": {
          "base_uri": "https://localhost:8080/"
        },
        "id": "x6TFuzabJcUS",
        "outputId": "4e39c773-8612-4cc6-dfa0-d65d8ef6c857"
      },
      "outputs": [
        {
          "output_type": "stream",
          "name": "stdout",
          "text": [
            "Model: \"model\"\n",
            "_________________________________________________________________\n",
            " Layer (type)                Output Shape              Param #   \n",
            "=================================================================\n",
            " input_1 (InputLayer)        [(None, None, None, 3)]   0         \n",
            "                                                                 \n",
            " block1_conv1 (Conv2D)       (None, None, None, 64)    1792      \n",
            "                                                                 \n",
            " block1_conv2 (Conv2D)       (None, None, None, 64)    36928     \n",
            "                                                                 \n",
            " block1_pool (MaxPooling2D)  (None, None, None, 64)    0         \n",
            "                                                                 \n",
            " block2_conv1 (Conv2D)       (None, None, None, 128)   73856     \n",
            "                                                                 \n",
            " block2_conv2 (Conv2D)       (None, None, None, 128)   147584    \n",
            "                                                                 \n",
            " block2_pool (MaxPooling2D)  (None, None, None, 128)   0         \n",
            "                                                                 \n",
            " block3_conv1 (Conv2D)       (None, None, None, 256)   295168    \n",
            "                                                                 \n",
            " block3_conv2 (Conv2D)       (None, None, None, 256)   590080    \n",
            "                                                                 \n",
            " block3_conv3 (Conv2D)       (None, None, None, 256)   590080    \n",
            "                                                                 \n",
            " block3_pool (MaxPooling2D)  (None, None, None, 256)   0         \n",
            "                                                                 \n",
            " block4_conv1 (Conv2D)       (None, None, None, 512)   1180160   \n",
            "                                                                 \n",
            " block4_conv2 (Conv2D)       (None, None, None, 512)   2359808   \n",
            "                                                                 \n",
            " block4_conv3 (Conv2D)       (None, None, None, 512)   2359808   \n",
            "                                                                 \n",
            " block4_pool (MaxPooling2D)  (None, None, None, 512)   0         \n",
            "                                                                 \n",
            " block5_conv1 (Conv2D)       (None, None, None, 512)   2359808   \n",
            "                                                                 \n",
            " block5_conv2 (Conv2D)       (None, None, None, 512)   2359808   \n",
            "                                                                 \n",
            " block5_conv3 (Conv2D)       (None, None, None, 512)   2359808   \n",
            "                                                                 \n",
            " block5_pool (MaxPooling2D)  (None, None, None, 512)   0         \n",
            "                                                                 \n",
            " global_average_pooling2d (G  (None, 512)              0         \n",
            " lobalAveragePooling2D)                                          \n",
            "                                                                 \n",
            " dense (Dense)               (None, 1024)              525312    \n",
            "                                                                 \n",
            " dense_1 (Dense)             (None, 512)               524800    \n",
            "                                                                 \n",
            " dense_2 (Dense)             (None, 128)               65664     \n",
            "                                                                 \n",
            " dense_3 (Dense)             (None, 32)                4128      \n",
            "                                                                 \n",
            " dense_4 (Dense)             (None, 6)                 198       \n",
            "                                                                 \n",
            "=================================================================\n",
            "Total params: 15,834,790\n",
            "Trainable params: 1,120,102\n",
            "Non-trainable params: 14,714,688\n",
            "_________________________________________________________________\n"
          ]
        }
      ],
      "source": [
        "import tensorflow as tf\n",
        "\n",
        "adam = tf.keras.optimizers.Adam(learning_rate=0.001)\n",
        "\n",
        "# For Integer Vector\n",
        "sce_loss = tf.keras.losses.SparseCategoricalCrossentropy()\n",
        "\n",
        "# For one-hot vector\n",
        "ce_loss = tf.keras.losses.CategoricalCrossentropy()\n",
        "\n",
        "# Your Code Here\n",
        "model.compile(\n",
        "    optimizer = adam,\n",
        "    loss = sce_loss,\n",
        "    metrics=[\"acc\"]\n",
        ")\n",
        "\n",
        "model.summary()"
      ]
    },
    {
      "cell_type": "code",
      "execution_count": null,
      "metadata": {
        "colab": {
          "base_uri": "https://localhost:8080/"
        },
        "id": "C-Mvf7fyJ0DR",
        "outputId": "d00bc6c6-49d1-468d-f01e-7dc72666bd83"
      },
      "outputs": [
        {
          "output_type": "execute_result",
          "data": {
            "text/plain": [
              "((1987, 128, 128, 3), (1987,))"
            ]
          },
          "metadata": {},
          "execution_count": 14
        }
      ],
      "source": [
        "X_train.shape, y_train.shape"
      ]
    },
    {
      "cell_type": "code",
      "execution_count": null,
      "metadata": {
        "colab": {
          "base_uri": "https://localhost:8080/"
        },
        "id": "_FDYCM_9KVAZ",
        "outputId": "10099cc0-e44c-43ad-f317-5d362146c13b"
      },
      "outputs": [
        {
          "output_type": "execute_result",
          "data": {
            "text/plain": [
              "((1987,), (497,))"
            ]
          },
          "metadata": {},
          "execution_count": 15
        }
      ],
      "source": [
        "y_train.shape, y_val.shape"
      ]
    },
    {
      "cell_type": "markdown",
      "source": [
        "# 5 Experiments"
      ],
      "metadata": {
        "id": "WQp-VSNCTcRY"
      }
    },
    {
      "cell_type": "code",
      "execution_count": null,
      "metadata": {
        "colab": {
          "base_uri": "https://localhost:8080/"
        },
        "id": "YyqRMcesJcW7",
        "outputId": "1fd63da2-8359-4037-e322-207a57472aef"
      },
      "outputs": [
        {
          "output_type": "stream",
          "name": "stdout",
          "text": [
            "Epoch 1/20\n",
            "50/50 [==============================] - 386s 8s/step - loss: 0.7687 - acc: 0.7388 - val_loss: 0.8993 - val_acc: 0.6960\n",
            "Epoch 2/20\n",
            "50/50 [==============================] - 376s 8s/step - loss: 0.4815 - acc: 0.8357 - val_loss: 0.8340 - val_acc: 0.7261\n",
            "Epoch 3/20\n",
            "50/50 [==============================] - 376s 8s/step - loss: 0.2406 - acc: 0.9239 - val_loss: 0.7047 - val_acc: 0.7990\n",
            "Epoch 4/20\n",
            "50/50 [==============================] - 372s 7s/step - loss: 0.1373 - acc: 0.9635 - val_loss: 1.0593 - val_acc: 0.7487\n",
            "Epoch 5/20\n",
            "50/50 [==============================] - 370s 7s/step - loss: 0.1140 - acc: 0.9679 - val_loss: 0.8869 - val_acc: 0.7714\n",
            "Epoch 6/20\n",
            "50/50 [==============================] - 374s 7s/step - loss: 0.1419 - acc: 0.9553 - val_loss: 0.8746 - val_acc: 0.8015\n",
            "Epoch 7/20\n",
            "50/50 [==============================] - 373s 7s/step - loss: 0.1004 - acc: 0.9717 - val_loss: 0.8949 - val_acc: 0.7814\n",
            "Epoch 8/20\n",
            "50/50 [==============================] - 372s 7s/step - loss: 0.1221 - acc: 0.9666 - val_loss: 0.8850 - val_acc: 0.7814\n",
            "Epoch 9/20\n",
            "50/50 [==============================] - 373s 7s/step - loss: 0.0726 - acc: 0.9817 - val_loss: 0.8695 - val_acc: 0.8015\n",
            "Epoch 10/20\n",
            "50/50 [==============================] - 373s 8s/step - loss: 0.0311 - acc: 0.9899 - val_loss: 1.0177 - val_acc: 0.7915\n",
            "Epoch 11/20\n",
            "50/50 [==============================] - 369s 7s/step - loss: 0.0234 - acc: 0.9943 - val_loss: 0.8879 - val_acc: 0.8116\n",
            "Epoch 12/20\n",
            "50/50 [==============================] - 367s 7s/step - loss: 0.0203 - acc: 0.9937 - val_loss: 0.9940 - val_acc: 0.7613\n",
            "Epoch 13/20\n",
            "50/50 [==============================] - 368s 7s/step - loss: 0.0192 - acc: 0.9924 - val_loss: 0.9072 - val_acc: 0.8241\n",
            "Epoch 14/20\n",
            "50/50 [==============================] - 366s 7s/step - loss: 0.0207 - acc: 0.9899 - val_loss: 0.9599 - val_acc: 0.7965\n",
            "Epoch 15/20\n",
            "50/50 [==============================] - 355s 7s/step - loss: 0.0142 - acc: 0.9937 - val_loss: 0.8902 - val_acc: 0.8191\n",
            "Epoch 16/20\n",
            "50/50 [==============================] - 366s 7s/step - loss: 0.0143 - acc: 0.9943 - val_loss: 0.8836 - val_acc: 0.8191\n",
            "Epoch 17/20\n",
            "50/50 [==============================] - 364s 7s/step - loss: 0.0102 - acc: 0.9937 - val_loss: 0.8835 - val_acc: 0.8317\n",
            "Epoch 18/20\n",
            "50/50 [==============================] - 366s 7s/step - loss: 0.0108 - acc: 0.9956 - val_loss: 1.1011 - val_acc: 0.8015\n",
            "Epoch 19/20\n",
            "50/50 [==============================] - 367s 7s/step - loss: 0.0129 - acc: 0.9950 - val_loss: 0.9243 - val_acc: 0.8266\n",
            "Epoch 20/20\n",
            "50/50 [==============================] - 369s 7s/step - loss: 0.0150 - acc: 0.9924 - val_loss: 0.9144 - val_acc: 0.8216\n"
          ]
        },
        {
          "output_type": "execute_result",
          "data": {
            "text/plain": [
              "<keras.callbacks.History at 0x7ff288193370>"
            ]
          },
          "metadata": {},
          "execution_count": 17
        }
      ],
      "source": [
        "model.fit(\n",
        "    X_train, y_train,\n",
        "    epochs=20,\n",
        "    batch_size=32,\n",
        "    validation_split=0.2\n",
        ")"
      ]
    },
    {
      "cell_type": "code",
      "execution_count": null,
      "metadata": {
        "id": "09rcR-LmJchl",
        "colab": {
          "base_uri": "https://localhost:8080/"
        },
        "outputId": "c051ef79-21f0-414e-d1b4-6e65b4de1a04"
      },
      "outputs": [
        {
          "output_type": "stream",
          "name": "stdout",
          "text": [
            "Validation Accuracy: 0.9602415561676025\n"
          ]
        }
      ],
      "source": [
        "val_loss, val_accuracy = model.evaluate(X_train, y_train, verbose=0)\n",
        "\n",
        "print(\"Validation Accuracy:\", val_accuracy)"
      ]
    },
    {
      "cell_type": "code",
      "execution_count": null,
      "metadata": {
        "id": "WCKTQy6APxCm"
      },
      "outputs": [],
      "source": [
        "X_test = test_img_list"
      ]
    },
    {
      "cell_type": "code",
      "execution_count": null,
      "metadata": {
        "id": "X1tSfq7OJcZV",
        "colab": {
          "base_uri": "https://localhost:8080/"
        },
        "outputId": "a013d1c0-bd2a-4a38-e20c-3ec49ea2f553"
      },
      "outputs": [
        {
          "output_type": "stream",
          "name": "stdout",
          "text": [
            "13/13 [==============================] - 74s 6s/step\n"
          ]
        }
      ],
      "source": [
        "pred = model.predict(X_test)"
      ]
    },
    {
      "cell_type": "code",
      "execution_count": null,
      "metadata": {
        "id": "Q9UWAxeoJceO",
        "colab": {
          "base_uri": "https://localhost:8080/"
        },
        "outputId": "3d0c656e-240e-4ad8-c1eb-badf93f77ee5"
      },
      "outputs": [
        {
          "output_type": "execute_result",
          "data": {
            "text/plain": [
              "(389, 6)"
            ]
          },
          "metadata": {},
          "execution_count": 20
        }
      ],
      "source": [
        "pred.shape # (batch, num_class)"
      ]
    },
    {
      "cell_type": "code",
      "execution_count": null,
      "metadata": {
        "id": "FWa08mk6LWpy",
        "colab": {
          "base_uri": "https://localhost:8080/"
        },
        "outputId": "986c64e3-36c1-44d2-b272-16a26a79bde5"
      },
      "outputs": [
        {
          "output_type": "execute_result",
          "data": {
            "text/plain": [
              "array([[6.1056170e-08, 8.8497974e-02, 1.0464837e-09, 3.8173557e-06,\n",
              "        1.2986685e-06, 9.1149688e-01],\n",
              "       [9.9999982e-01, 3.8097969e-11, 5.2694585e-12, 2.7057028e-14,\n",
              "        1.1694971e-08, 9.0550536e-08],\n",
              "       [3.5159853e-10, 3.1073241e-06, 1.7087930e-13, 5.9168018e-12,\n",
              "        1.0735725e-08, 9.9999684e-01],\n",
              "       ...,\n",
              "       [2.5654066e-09, 9.6178315e-05, 2.0104618e-11, 9.9989891e-01,\n",
              "        1.2314234e-06, 3.6786971e-06],\n",
              "       [5.0421000e-05, 8.6599309e-04, 1.7346978e-02, 9.1370153e-01,\n",
              "        6.7019328e-02, 1.0158350e-03],\n",
              "       [9.9999499e-01, 2.4531579e-07, 6.2189848e-08, 8.9688791e-11,\n",
              "        1.1801892e-06, 3.5066164e-06]], dtype=float32)"
            ]
          },
          "metadata": {},
          "execution_count": 21
        }
      ],
      "source": [
        "pred"
      ]
    },
    {
      "cell_type": "code",
      "execution_count": null,
      "metadata": {
        "id": "53-H30ZjLZp_",
        "colab": {
          "base_uri": "https://localhost:8080/"
        },
        "outputId": "7a6b7f28-db12-4c17-d68d-7ef65000ec7b"
      },
      "outputs": [
        {
          "output_type": "execute_result",
          "data": {
            "text/plain": [
              "array([5, 0, 5, 5, 3, 5, 0, 5, 3, 1, 5, 0, 0, 5, 3, 2, 2, 4, 3, 2, 5, 1,\n",
              "       2, 0, 1, 5, 0, 2, 5, 2, 5, 5, 3, 5, 1, 3, 1, 3, 5, 0, 0, 0, 2, 0,\n",
              "       5, 0, 0, 1, 1, 0, 3, 3, 1, 5, 4, 5, 0, 1, 4, 1, 5, 3, 5, 0, 3, 3,\n",
              "       3, 1, 3, 1, 5, 5, 0, 0, 5, 5, 3, 5, 5, 5, 5, 5, 3, 0, 5, 1, 0, 1,\n",
              "       3, 1, 1, 3, 5, 5, 5, 4, 5, 0, 1, 5, 3, 1, 3, 5, 0, 1, 0, 5, 5, 2,\n",
              "       0, 0, 1, 2, 3, 5, 0, 5, 2, 1, 3, 5, 1, 5, 4, 1, 0, 2, 1, 5, 2, 4,\n",
              "       0, 1, 0, 5, 1, 2, 5, 5, 1, 0, 2, 4, 5, 0, 0, 5, 5, 5, 1, 1, 3, 0,\n",
              "       5, 2, 0, 5, 0, 5, 1, 5, 1, 5, 1, 5, 3, 2, 5, 5, 1, 3, 5, 0, 0, 1,\n",
              "       4, 1, 0, 3, 5, 0, 2, 0, 1, 3, 5, 0, 0, 5, 5, 4, 4, 3, 0, 0, 2, 0,\n",
              "       1, 4, 3, 0, 1, 5, 0, 1, 4, 3, 1, 0, 5, 0, 5, 5, 1, 0, 5, 1, 3, 4,\n",
              "       0, 5, 2, 3, 0, 0, 1, 0, 5, 2, 3, 3, 2, 0, 3, 1, 0, 5, 3, 1, 3, 5,\n",
              "       3, 0, 1, 5, 2, 5, 1, 0, 5, 1, 2, 0, 1, 3, 2, 0, 4, 0, 1, 5, 0, 1,\n",
              "       0, 4, 0, 0, 1, 1, 5, 3, 5, 5, 3, 0, 2, 0, 5, 0, 2, 0, 5, 0, 5, 5,\n",
              "       3, 0, 0, 1, 1, 3, 5, 1, 1, 5, 1, 0, 0, 1, 0, 0, 1, 5, 0, 5, 1, 5,\n",
              "       3, 3, 3, 1, 1, 3, 1, 0, 0, 3, 2, 2, 4, 1, 5, 1, 5, 1, 5, 5, 1, 5,\n",
              "       0, 5, 5, 0, 2, 5, 3, 1, 0, 0, 1, 0, 5, 0, 2, 3, 0, 0, 0, 5, 5, 0,\n",
              "       2, 1, 5, 3, 1, 1, 3, 5, 2, 3, 1, 0, 0, 5, 1, 1, 1, 1, 5, 5, 0, 1,\n",
              "       3, 0, 0, 3, 0, 3, 2, 2, 5, 2, 5, 0, 3, 3, 0])"
            ]
          },
          "metadata": {},
          "execution_count": 22
        }
      ],
      "source": [
        "np.argmax(pred, axis=1) # 결과: "
      ]
    },
    {
      "cell_type": "markdown",
      "source": [
        "# 6 Submission"
      ],
      "metadata": {
        "id": "usCetpDtVlFm"
      }
    },
    {
      "cell_type": "code",
      "execution_count": null,
      "metadata": {
        "id": "0JpyK0PMCr8Q",
        "colab": {
          "base_uri": "https://localhost:8080/",
          "height": 423
        },
        "outputId": "93c49382-1b52-4d00-d223-6458e2dac5d2"
      },
      "outputs": [
        {
          "output_type": "execute_result",
          "data": {
            "text/plain": [
              "          Id  Category\n",
              "0      0.jpg         5\n",
              "1      1.jpg         0\n",
              "2      2.jpg         5\n",
              "3      3.jpg         5\n",
              "4      4.jpg         3\n",
              "..       ...       ...\n",
              "384  384.jpg         5\n",
              "385  385.jpg         0\n",
              "386  386.jpg         3\n",
              "387  387.jpg         3\n",
              "388  388.jpg         0\n",
              "\n",
              "[389 rows x 2 columns]"
            ],
            "text/html": [
              "\n",
              "  <div id=\"df-019dd1c5-f79d-4310-86bd-c8ebacb6d727\">\n",
              "    <div class=\"colab-df-container\">\n",
              "      <div>\n",
              "<style scoped>\n",
              "    .dataframe tbody tr th:only-of-type {\n",
              "        vertical-align: middle;\n",
              "    }\n",
              "\n",
              "    .dataframe tbody tr th {\n",
              "        vertical-align: top;\n",
              "    }\n",
              "\n",
              "    .dataframe thead th {\n",
              "        text-align: right;\n",
              "    }\n",
              "</style>\n",
              "<table border=\"1\" class=\"dataframe\">\n",
              "  <thead>\n",
              "    <tr style=\"text-align: right;\">\n",
              "      <th></th>\n",
              "      <th>Id</th>\n",
              "      <th>Category</th>\n",
              "    </tr>\n",
              "  </thead>\n",
              "  <tbody>\n",
              "    <tr>\n",
              "      <th>0</th>\n",
              "      <td>0.jpg</td>\n",
              "      <td>5</td>\n",
              "    </tr>\n",
              "    <tr>\n",
              "      <th>1</th>\n",
              "      <td>1.jpg</td>\n",
              "      <td>0</td>\n",
              "    </tr>\n",
              "    <tr>\n",
              "      <th>2</th>\n",
              "      <td>2.jpg</td>\n",
              "      <td>5</td>\n",
              "    </tr>\n",
              "    <tr>\n",
              "      <th>3</th>\n",
              "      <td>3.jpg</td>\n",
              "      <td>5</td>\n",
              "    </tr>\n",
              "    <tr>\n",
              "      <th>4</th>\n",
              "      <td>4.jpg</td>\n",
              "      <td>3</td>\n",
              "    </tr>\n",
              "    <tr>\n",
              "      <th>...</th>\n",
              "      <td>...</td>\n",
              "      <td>...</td>\n",
              "    </tr>\n",
              "    <tr>\n",
              "      <th>384</th>\n",
              "      <td>384.jpg</td>\n",
              "      <td>5</td>\n",
              "    </tr>\n",
              "    <tr>\n",
              "      <th>385</th>\n",
              "      <td>385.jpg</td>\n",
              "      <td>0</td>\n",
              "    </tr>\n",
              "    <tr>\n",
              "      <th>386</th>\n",
              "      <td>386.jpg</td>\n",
              "      <td>3</td>\n",
              "    </tr>\n",
              "    <tr>\n",
              "      <th>387</th>\n",
              "      <td>387.jpg</td>\n",
              "      <td>3</td>\n",
              "    </tr>\n",
              "    <tr>\n",
              "      <th>388</th>\n",
              "      <td>388.jpg</td>\n",
              "      <td>0</td>\n",
              "    </tr>\n",
              "  </tbody>\n",
              "</table>\n",
              "<p>389 rows × 2 columns</p>\n",
              "</div>\n",
              "      <button class=\"colab-df-convert\" onclick=\"convertToInteractive('df-019dd1c5-f79d-4310-86bd-c8ebacb6d727')\"\n",
              "              title=\"Convert this dataframe to an interactive table.\"\n",
              "              style=\"display:none;\">\n",
              "        \n",
              "  <svg xmlns=\"http://www.w3.org/2000/svg\" height=\"24px\"viewBox=\"0 0 24 24\"\n",
              "       width=\"24px\">\n",
              "    <path d=\"M0 0h24v24H0V0z\" fill=\"none\"/>\n",
              "    <path d=\"M18.56 5.44l.94 2.06.94-2.06 2.06-.94-2.06-.94-.94-2.06-.94 2.06-2.06.94zm-11 1L8.5 8.5l.94-2.06 2.06-.94-2.06-.94L8.5 2.5l-.94 2.06-2.06.94zm10 10l.94 2.06.94-2.06 2.06-.94-2.06-.94-.94-2.06-.94 2.06-2.06.94z\"/><path d=\"M17.41 7.96l-1.37-1.37c-.4-.4-.92-.59-1.43-.59-.52 0-1.04.2-1.43.59L10.3 9.45l-7.72 7.72c-.78.78-.78 2.05 0 2.83L4 21.41c.39.39.9.59 1.41.59.51 0 1.02-.2 1.41-.59l7.78-7.78 2.81-2.81c.8-.78.8-2.07 0-2.86zM5.41 20L4 18.59l7.72-7.72 1.47 1.35L5.41 20z\"/>\n",
              "  </svg>\n",
              "      </button>\n",
              "      \n",
              "  <style>\n",
              "    .colab-df-container {\n",
              "      display:flex;\n",
              "      flex-wrap:wrap;\n",
              "      gap: 12px;\n",
              "    }\n",
              "\n",
              "    .colab-df-convert {\n",
              "      background-color: #E8F0FE;\n",
              "      border: none;\n",
              "      border-radius: 50%;\n",
              "      cursor: pointer;\n",
              "      display: none;\n",
              "      fill: #1967D2;\n",
              "      height: 32px;\n",
              "      padding: 0 0 0 0;\n",
              "      width: 32px;\n",
              "    }\n",
              "\n",
              "    .colab-df-convert:hover {\n",
              "      background-color: #E2EBFA;\n",
              "      box-shadow: 0px 1px 2px rgba(60, 64, 67, 0.3), 0px 1px 3px 1px rgba(60, 64, 67, 0.15);\n",
              "      fill: #174EA6;\n",
              "    }\n",
              "\n",
              "    [theme=dark] .colab-df-convert {\n",
              "      background-color: #3B4455;\n",
              "      fill: #D2E3FC;\n",
              "    }\n",
              "\n",
              "    [theme=dark] .colab-df-convert:hover {\n",
              "      background-color: #434B5C;\n",
              "      box-shadow: 0px 1px 3px 1px rgba(0, 0, 0, 0.15);\n",
              "      filter: drop-shadow(0px 1px 2px rgba(0, 0, 0, 0.3));\n",
              "      fill: #FFFFFF;\n",
              "    }\n",
              "  </style>\n",
              "\n",
              "      <script>\n",
              "        const buttonEl =\n",
              "          document.querySelector('#df-019dd1c5-f79d-4310-86bd-c8ebacb6d727 button.colab-df-convert');\n",
              "        buttonEl.style.display =\n",
              "          google.colab.kernel.accessAllowed ? 'block' : 'none';\n",
              "\n",
              "        async function convertToInteractive(key) {\n",
              "          const element = document.querySelector('#df-019dd1c5-f79d-4310-86bd-c8ebacb6d727');\n",
              "          const dataTable =\n",
              "            await google.colab.kernel.invokeFunction('convertToInteractive',\n",
              "                                                     [key], {});\n",
              "          if (!dataTable) return;\n",
              "\n",
              "          const docLinkHtml = 'Like what you see? Visit the ' +\n",
              "            '<a target=\"_blank\" href=https://colab.research.google.com/notebooks/data_table.ipynb>data table notebook</a>'\n",
              "            + ' to learn more about interactive tables.';\n",
              "          element.innerHTML = '';\n",
              "          dataTable['output_type'] = 'display_data';\n",
              "          await google.colab.output.renderOutput(dataTable, element);\n",
              "          const docLink = document.createElement('div');\n",
              "          docLink.innerHTML = docLinkHtml;\n",
              "          element.appendChild(docLink);\n",
              "        }\n",
              "      </script>\n",
              "    </div>\n",
              "  </div>\n",
              "  "
            ]
          },
          "metadata": {},
          "execution_count": 25
        }
      ],
      "source": [
        "import pandas as pd\n",
        "submission = pd.read_csv('/content/drive/MyDrive/고머딥/기말프로젝트/for-student/submission-example.csv')\n",
        "submission['Category']=np.argmax(pred, axis=1)\n",
        "submission"
      ]
    },
    {
      "cell_type": "code",
      "execution_count": null,
      "metadata": {
        "id": "7ymUHTSfEID1",
        "colab": {
          "base_uri": "https://localhost:8080/"
        },
        "outputId": "3a6bc57a-6bdf-4d6c-f48c-fd1fc055e54c"
      },
      "outputs": [
        {
          "output_type": "execute_result",
          "data": {
            "text/plain": [
              "5"
            ]
          },
          "metadata": {},
          "execution_count": 26
        }
      ],
      "source": [
        "max(submission['Category'])"
      ]
    },
    {
      "cell_type": "code",
      "execution_count": null,
      "metadata": {
        "id": "MxbDrZfnELUP"
      },
      "outputs": [],
      "source": [
        "submission.to_csv('submission_230525_vgg16model.csv', index=False)"
      ]
    },
    {
      "cell_type": "code",
      "execution_count": null,
      "metadata": {
        "id": "ouP35qt2SbWl"
      },
      "outputs": [],
      "source": [
        "submission['Category'].value_counts()"
      ]
    }
  ],
  "metadata": {
    "colab": {
      "provenance": []
    },
    "kernelspec": {
      "display_name": "Python 3",
      "name": "python3"
    },
    "language_info": {
      "name": "python"
    }
  },
  "nbformat": 4,
  "nbformat_minor": 0
}